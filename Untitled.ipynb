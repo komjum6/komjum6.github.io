{
 "cells": [
  {
   "cell_type": "code",
   "execution_count": null,
   "metadata": {},
   "outputs": [
    {
     "name": "stderr",
     "output_type": "stream",
     "text": [
      " * Running on http://127.0.0.1:5000/ (Press CTRL+C to quit)\n",
      "127.0.0.1 - - [09/Jun/2018 18:59:19] \"\u001b[37mGET / HTTP/1.1\u001b[0m\" 200 -\n",
      "127.0.0.1 - - [09/Jun/2018 18:59:26] \"\u001b[37mGET /index.html HTTP/1.1\u001b[0m\" 200 -\n",
      "127.0.0.1 - - [09/Jun/2018 18:59:26] \"\u001b[37mGET /favicon.ico HTTP/1.1\u001b[0m\" 200 -\n",
      "127.0.0.1 - - [09/Jun/2018 18:59:29] \"\u001b[37mGET /index.html HTTP/1.1\u001b[0m\" 200 -\n",
      "127.0.0.1 - - [09/Jun/2018 18:59:29] \"\u001b[37mGET /favicon.ico HTTP/1.1\u001b[0m\" 200 -\n",
      "127.0.0.1 - - [09/Jun/2018 18:59:33] \"\u001b[37mGET /notes.html HTTP/1.1\u001b[0m\" 200 -\n",
      "127.0.0.1 - - [09/Jun/2018 18:59:34] \"\u001b[37mGET /favicon.ico HTTP/1.1\u001b[0m\" 200 -\n",
      "127.0.0.1 - - [09/Jun/2018 19:00:44] \"\u001b[37mGET / HTTP/1.1\u001b[0m\" 200 -\n",
      "127.0.0.1 - - [09/Jun/2018 19:00:46] \"\u001b[37mGET /work HTTP/1.1\u001b[0m\" 200 -\n",
      "127.0.0.1 - - [09/Jun/2018 19:00:47] \"\u001b[37mGET / HTTP/1.1\u001b[0m\" 200 -\n",
      "127.0.0.1 - - [09/Jun/2018 19:00:52] \"\u001b[37mGET / HTTP/1.1\u001b[0m\" 200 -\n",
      "127.0.0.1 - - [09/Jun/2018 19:00:54] \"\u001b[37mGET / HTTP/1.1\u001b[0m\" 200 -\n"
     ]
    }
   ],
   "source": [
    "from flask import Flask, render_template\n",
    "from flask_frozen import Freezer\n",
    "from wtforms import Form, BooleanField, StringField, PasswordField, validators\n",
    "app = Flask(__name__, static_url_path='',static_folder=\"static\")\n",
    "\n",
    "#freezer = Freezer(app)\n",
    "\n",
    "#De Root Map\n",
    "@app.route('/')\n",
    "def index():\n",
    "    return render_template('index.html')\n",
    "    \n",
    "#De plaats waar alles gevisualiseerd word\n",
    "@app.route('/accomplishments')\n",
    "def accomplishments():\n",
    "    return render_template('accomplishments.html')\n",
    "\n",
    "#De plaats voor contact info\n",
    "@app.route('/work')\n",
    "def work():\n",
    "    return render_template('work.html')\n",
    "\n",
    "#Een plaats voor een introductie etc\n",
    "@app.route('/notes')\n",
    "def notes():\n",
    "    return render_template('notes.html')\n",
    "\n",
    "#\n",
    "@app.route('/littleblog')\n",
    "def littleblog():\n",
    "    return render_template('littleblog.html')\n",
    "\n",
    "#\n",
    "@app.route('/gameknowledge')\n",
    "def gameknowledge():\n",
    "    return render_template('gameknowledge.html')\n",
    "\n",
    "#error 500 handling\n",
    "@app.errorhandler(500)\n",
    "def internal_error(error):\n",
    "\n",
    "    return str(error)\n",
    "\n",
    "#error 404 handling\n",
    "@app.errorhandler(404)\n",
    "def page_not_found(error):\n",
    "    return str(error)\n",
    "\n",
    "import webbrowser\n",
    "\n",
    "#Ga naar de plaats waar de webpagina geopend wordt\n",
    "url = 'http://127.0.0.1:5000/'\n",
    "webbrowser.open(url)\n",
    "\n",
    "if __name__ == '__main__':\n",
    "    #freezer.freeze()\n",
    "    app.run()"
   ]
  }
 ],
 "metadata": {
  "kernelspec": {
   "display_name": "Python 3",
   "language": "python",
   "name": "python3"
  },
  "language_info": {
   "codemirror_mode": {
    "name": "ipython",
    "version": 3
   },
   "file_extension": ".py",
   "mimetype": "text/x-python",
   "name": "python",
   "nbconvert_exporter": "python",
   "pygments_lexer": "ipython3",
   "version": "3.6.1"
  }
 },
 "nbformat": 4,
 "nbformat_minor": 2
}
